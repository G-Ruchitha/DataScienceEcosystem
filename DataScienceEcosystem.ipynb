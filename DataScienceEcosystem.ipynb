{
 "cells": [
  {
   "cell_type": "markdown",
   "id": "b64d5e3b",
   "metadata": {},
   "source": [
    "DataScience Tools And Ecosystem"
   ]
  },
  {
   "cell_type": "markdown",
   "id": "46bbf46a",
   "metadata": {},
   "source": [
    "In this notebook, Data Science Tools and Ecosystem are summarized."
   ]
  },
  {
   "cell_type": "markdown",
   "id": "41e1ca4c",
   "metadata": {},
   "source": [
    "Some of the popular languages that Data Scientists use are:"
   ]
  },
  {
   "cell_type": "code",
   "execution_count": 1,
   "id": "0d710949",
   "metadata": {},
   "outputs": [
    {
     "data": {
      "text/plain": [
       "['R', 'Python', 'SQL']"
      ]
     },
     "execution_count": 1,
     "metadata": {},
     "output_type": "execute_result"
    }
   ],
   "source": [
    "lst=['R','Python','SQL']\n",
    "lst"
   ]
  },
  {
   "cell_type": "markdown",
   "id": "e98a3e0c",
   "metadata": {},
   "source": [
    "Some of the commonly used libraries used by Data Scientists include:"
   ]
  },
  {
   "cell_type": "code",
   "execution_count": 2,
   "id": "82b2160d",
   "metadata": {},
   "outputs": [
    {
     "data": {
      "text/plain": [
       "['pandas', 'scikit-learn', 'Matplotlib', 'Numpy', 'seaborn']"
      ]
     },
     "execution_count": 2,
     "metadata": {},
     "output_type": "execute_result"
    }
   ],
   "source": [
    "libraries_in_DS=['pandas','scikit-learn','Matplotlib','Numpy','seaborn']\n",
    "libraries_in_DS"
   ]
  },
  {
   "cell_type": "markdown",
   "id": "cba1b2c9",
   "metadata": {},
   "source": [
    "Data Science Tools"
   ]
  },
  {
   "cell_type": "code",
   "execution_count": 3,
   "id": "06fb6c0b",
   "metadata": {},
   "outputs": [
    {
     "data": {
      "text/plain": [
       "['Git', 'GitHub', 'Jupyter NoteBook', 'R studio']"
      ]
     },
     "execution_count": 3,
     "metadata": {},
     "output_type": "execute_result"
    }
   ],
   "source": [
    "tools_in_DS=['Git','GitHub','Jupyter NoteBook','R studio']\n",
    "tools_in_DS"
   ]
  },
  {
   "cell_type": "markdown",
   "id": "d00750bc",
   "metadata": {},
   "source": [
    "Below are a few examples of evaluating arithmetic expressions in Python"
   ]
  },
  {
   "cell_type": "code",
   "execution_count": 4,
   "id": "d78e0842",
   "metadata": {},
   "outputs": [
    {
     "name": "stdout",
     "output_type": "stream",
     "text": [
      "15\n",
      "5\n",
      "50\n",
      "2.0\n",
      "0\n",
      "2\n"
     ]
    }
   ],
   "source": [
    "a=10\n",
    "b=5\n",
    "print(a+b)\n",
    "print(a-b)\n",
    "print(a*b)\n",
    "print(a/b)\n",
    "print(a%b)\n",
    "print(a//b)"
   ]
  },
  {
   "cell_type": "markdown",
   "id": "fb8cd101",
   "metadata": {},
   "source": [
    "(3*4)+5"
   ]
  },
  {
   "cell_type": "code",
   "execution_count": 5,
   "id": "89a29840",
   "metadata": {},
   "outputs": [
    {
     "data": {
      "text/plain": [
       "17"
      ]
     },
     "execution_count": 5,
     "metadata": {},
     "output_type": "execute_result"
    }
   ],
   "source": [
    "(3*4)+5"
   ]
  },
  {
   "cell_type": "markdown",
   "id": "7773bf7c",
   "metadata": {},
   "source": [
    "200 minutes into hours."
   ]
  },
  {
   "cell_type": "code",
   "execution_count": 6,
   "id": "61eb8e21",
   "metadata": {},
   "outputs": [
    {
     "data": {
      "text/plain": [
       "3.3333333333333335"
      ]
     },
     "execution_count": 6,
     "metadata": {},
     "output_type": "execute_result"
    }
   ],
   "source": [
    "hours=200/60\n",
    "hours"
   ]
  },
  {
   "cell_type": "markdown",
   "id": "f5aa7ba4",
   "metadata": {},
   "source": [
    "List popular languages for Data Science."
   ]
  },
  {
   "cell_type": "code",
   "execution_count": 7,
   "id": "035671b1",
   "metadata": {},
   "outputs": [
    {
     "data": {
      "text/plain": [
       "['Python', 'R', 'SQL']"
      ]
     },
     "execution_count": 7,
     "metadata": {},
     "output_type": "execute_result"
    }
   ],
   "source": [
    "list1=['Python','R','SQL']\n",
    "list1"
   ]
  },
  {
   "cell_type": "markdown",
   "id": "cf96638e",
   "metadata": {},
   "source": [
    "name as regular text below the word Author."
   ]
  },
  {
   "cell_type": "code",
   "execution_count": 8,
   "id": "46e524ff",
   "metadata": {},
   "outputs": [
    {
     "data": {
      "text/plain": [
       "'Ruchitha'"
      ]
     },
     "execution_count": 8,
     "metadata": {},
     "output_type": "execute_result"
    }
   ],
   "source": [
    "name='Ruchitha'\n",
    "name"
   ]
  }
 ],
 "metadata": {
  "kernelspec": {
   "display_name": "Python 3 (ipykernel)",
   "language": "python",
   "name": "python3"
  },
  "language_info": {
   "codemirror_mode": {
    "name": "ipython",
    "version": 3
   },
   "file_extension": ".py",
   "mimetype": "text/x-python",
   "name": "python",
   "nbconvert_exporter": "python",
   "pygments_lexer": "ipython3",
   "version": "3.9.13"
  }
 },
 "nbformat": 4,
 "nbformat_minor": 5
}
